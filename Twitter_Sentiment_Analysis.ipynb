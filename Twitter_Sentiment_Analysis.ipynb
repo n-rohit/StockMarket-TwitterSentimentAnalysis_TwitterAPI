{
  "cells": [
    {
      "cell_type": "markdown",
      "metadata": {
        "id": "rwYKk7WPsMbh"
      },
      "source": [
        "# Twitter Sentiment Analysis using Python:\n",
        "This is a program that fetches tweets from Twitter for the purpose of Sentiment Analysis."
      ]
    },
    {
      "cell_type": "markdown",
      "metadata": {
        "id": "a89A16f4spFv"
      },
      "source": [
        "---\n",
        "---"
      ]
    },
    {
      "cell_type": "markdown",
      "metadata": {
        "id": "r6Lo2evessSC"
      },
      "source": [
        "### Importing the Libraries"
      ]
    },
    {
      "cell_type": "code",
      "execution_count": 272,
      "metadata": {
        "id": "uq7yBFxkr_WE"
      },
      "outputs": [],
      "source": [
        "import tweepy\n",
        "from textblob import TextBlob\n",
        "from wordcloud import wordcloud\n",
        "import pandas as pd\n",
        "import numpy as np\n",
        "import re\n",
        "from wordcloud import WordCloud\n",
        "import matplotlib.pyplot as plt\n",
        "plt.style.use('fivethirtyeight')"
      ]
    },
    {
      "cell_type": "markdown",
      "metadata": {
        "id": "y526ZyAOZ5RF"
      },
      "source": [
        "---"
      ]
    },
    {
      "cell_type": "markdown",
      "metadata": {
        "id": "UeMZTSPgZzac"
      },
      "source": [
        "### Twitter API Credentials"
      ]
    },
    {
      "cell_type": "code",
      "execution_count": 273,
      "metadata": {
        "id": "Le_rNFdrZv2Q"
      },
      "outputs": [],
      "source": [
        "log = pd.read_csv(\"auth.csv\")\n",
        "\n",
        "consumerKey = log['key'][0]\n",
        "consumerSecret = log['key'][1]\n",
        "accessToken = log['key'][2]\n",
        "accessTokenSecret = log['key'][3]"
      ]
    },
    {
      "cell_type": "markdown",
      "metadata": {
        "id": "T1kdeLRnaDns"
      },
      "source": [
        "---"
      ]
    },
    {
      "cell_type": "markdown",
      "metadata": {
        "id": "af-iVgboafBU"
      },
      "source": [
        "### Authentication"
      ]
    },
    {
      "cell_type": "code",
      "execution_count": 274,
      "metadata": {
        "id": "sYtXRHr-aEuo"
      },
      "outputs": [],
      "source": [
        "authenticate = tweepy.OAuthHandler(consumerKey, consumerSecret)\n",
        "authenticate.set_access_token(accessToken, accessTokenSecret)"
      ]
    },
    {
      "cell_type": "markdown",
      "metadata": {
        "id": "TUq3vo7caotU"
      },
      "source": [
        "---"
      ]
    },
    {
      "cell_type": "markdown",
      "metadata": {
        "id": "ZdAKBGJ5aplr"
      },
      "source": [
        "### Creating the API & Creating a Dataframe of Tweets"
      ]
    },
    {
      "cell_type": "code",
      "execution_count": 275,
      "metadata": {
        "id": "OW2FjPBpatlD"
      },
      "outputs": [],
      "source": [
        "api = tweepy.API(authenticate, wait_on_rate_limit = True)"
      ]
    },
    {
      "cell_type": "markdown",
      "metadata": {},
      "source": [
        "---"
      ]
    },
    {
      "cell_type": "markdown",
      "metadata": {},
      "source": [
        "Get the Top 10 Gaining and Losing Stocks from the <a href=\"https://www.bseindia.com/markets.html\">BSE India</a> Website"
      ]
    },
    {
      "cell_type": "code",
      "execution_count": 276,
      "metadata": {
        "colab": {
          "base_uri": "https://localhost:8080/",
          "height": 381
        },
        "id": "_d4Wrq2obWuW",
        "outputId": "c0233355-f40c-49a9-9633-343fb27112c9"
      },
      "outputs": [
        {
          "name": "stderr",
          "output_type": "stream",
          "text": [
            "Unexpected parameter: lang\n"
          ]
        },
        {
          "data": {
            "text/html": [
              "<div>\n",
              "<style scoped>\n",
              "    .dataframe tbody tr th:only-of-type {\n",
              "        vertical-align: middle;\n",
              "    }\n",
              "\n",
              "    .dataframe tbody tr th {\n",
              "        vertical-align: top;\n",
              "    }\n",
              "\n",
              "    .dataframe thead th {\n",
              "        text-align: right;\n",
              "    }\n",
              "</style>\n",
              "<table border=\"1\" class=\"dataframe\">\n",
              "  <thead>\n",
              "    <tr style=\"text-align: right;\">\n",
              "      <th></th>\n",
              "      <th>Tweets</th>\n",
              "    </tr>\n",
              "  </thead>\n",
              "  <tbody>\n",
              "    <tr>\n",
              "      <th>0</th>\n",
              "      <td>We’re flying high, literally. ;)\\nDelighted to...</td>\n",
              "    </tr>\n",
              "    <tr>\n",
              "      <th>1</th>\n",
              "      <td>How traditional HR is evolving in the era of t...</td>\n",
              "    </tr>\n",
              "    <tr>\n",
              "      <th>2</th>\n",
              "      <td>Here are the top 5 key takeaways from the #TCS...</td>\n",
              "    </tr>\n",
              "    <tr>\n",
              "      <th>3</th>\n",
              "      <td>Tune into the next edition of #TCSForum: Thoug...</td>\n",
              "    </tr>\n",
              "    <tr>\n",
              "      <th>4</th>\n",
              "      <td>Our leadership share their views on the #TCSQ1...</td>\n",
              "    </tr>\n",
              "  </tbody>\n",
              "</table>\n",
              "</div>"
            ],
            "text/plain": [
              "                                              Tweets\n",
              "0  We’re flying high, literally. ;)\\nDelighted to...\n",
              "1  How traditional HR is evolving in the era of t...\n",
              "2  Here are the top 5 key takeaways from the #TCS...\n",
              "3  Tune into the next edition of #TCSForum: Thoug...\n",
              "4  Our leadership share their views on the #TCSQ1..."
            ]
          },
          "execution_count": 276,
          "metadata": {},
          "output_type": "execute_result"
        }
      ],
      "source": [
        "name = \"TCS\"\n",
        "posts = api.user_timeline(screen_name=name, count=100, lang=\"en\", tweet_mode=\"extended\")\n",
        "df = pd.DataFrame([tweet.full_text for tweet in posts], columns=[\"Tweets\"])\n",
        "df.head()"
      ]
    },
    {
      "cell_type": "markdown",
      "metadata": {},
      "source": [
        "---"
      ]
    },
    {
      "cell_type": "markdown",
      "metadata": {},
      "source": [
        "### Cleaning the Tweets"
      ]
    },
    {
      "cell_type": "code",
      "execution_count": 277,
      "metadata": {},
      "outputs": [
        {
          "data": {
            "text/html": [
              "<div>\n",
              "<style scoped>\n",
              "    .dataframe tbody tr th:only-of-type {\n",
              "        vertical-align: middle;\n",
              "    }\n",
              "\n",
              "    .dataframe tbody tr th {\n",
              "        vertical-align: top;\n",
              "    }\n",
              "\n",
              "    .dataframe thead th {\n",
              "        text-align: right;\n",
              "    }\n",
              "</style>\n",
              "<table border=\"1\" class=\"dataframe\">\n",
              "  <thead>\n",
              "    <tr style=\"text-align: right;\">\n",
              "      <th></th>\n",
              "      <th>Tweets</th>\n",
              "    </tr>\n",
              "  </thead>\n",
              "  <tbody>\n",
              "    <tr>\n",
              "      <th>0</th>\n",
              "      <td>We’re flying high, literally. ;)\\nDelighted to...</td>\n",
              "    </tr>\n",
              "    <tr>\n",
              "      <th>1</th>\n",
              "      <td>How traditional HR is evolving in the era of t...</td>\n",
              "    </tr>\n",
              "    <tr>\n",
              "      <th>2</th>\n",
              "      <td>Here are the top 5 key takeaways from the TCSQ...</td>\n",
              "    </tr>\n",
              "    <tr>\n",
              "      <th>3</th>\n",
              "      <td>Tune into the next edition of TCSForum: Though...</td>\n",
              "    </tr>\n",
              "    <tr>\n",
              "      <th>4</th>\n",
              "      <td>Our leadership share their views on the TCSQ1 ...</td>\n",
              "    </tr>\n",
              "  </tbody>\n",
              "</table>\n",
              "</div>"
            ],
            "text/plain": [
              "                                              Tweets\n",
              "0  We’re flying high, literally. ;)\\nDelighted to...\n",
              "1  How traditional HR is evolving in the era of t...\n",
              "2  Here are the top 5 key takeaways from the TCSQ...\n",
              "3  Tune into the next edition of TCSForum: Though...\n",
              "4  Our leadership share their views on the TCSQ1 ..."
            ]
          },
          "execution_count": 277,
          "metadata": {},
          "output_type": "execute_result"
        }
      ],
      "source": [
        "def cleanTweet(tweet):\n",
        "    tweet = re.sub(r'@[A-Za-z0-9]+', '', tweet) # Removing the @mentions\n",
        "    tweet = re.sub(r'#', '', tweet) # Removing the # symbols\n",
        "    tweet = re.sub(r'RT[\\s]+', '', tweet) # Removing RT i.e. ReTweets\n",
        "    tweet = re.sub(r'https?:\\/\\/\\S+', '', tweet) # Removing Hyperlinks\n",
        "    return tweet\n",
        "\n",
        "df['Tweets'] = df['Tweets'].apply(cleanTweet)\n",
        "df.head()"
      ]
    },
    {
      "cell_type": "markdown",
      "metadata": {},
      "source": [
        "---"
      ]
    },
    {
      "cell_type": "markdown",
      "metadata": {},
      "source": [
        "### Getting Subjectivity and Polarity for Tweets and Assigning them to the Dataframe"
      ]
    },
    {
      "cell_type": "code",
      "execution_count": 278,
      "metadata": {},
      "outputs": [
        {
          "data": {
            "text/html": [
              "<div>\n",
              "<style scoped>\n",
              "    .dataframe tbody tr th:only-of-type {\n",
              "        vertical-align: middle;\n",
              "    }\n",
              "\n",
              "    .dataframe tbody tr th {\n",
              "        vertical-align: top;\n",
              "    }\n",
              "\n",
              "    .dataframe thead th {\n",
              "        text-align: right;\n",
              "    }\n",
              "</style>\n",
              "<table border=\"1\" class=\"dataframe\">\n",
              "  <thead>\n",
              "    <tr style=\"text-align: right;\">\n",
              "      <th></th>\n",
              "      <th>Tweets</th>\n",
              "      <th>Subjectivity</th>\n",
              "      <th>Polarity</th>\n",
              "    </tr>\n",
              "  </thead>\n",
              "  <tbody>\n",
              "    <tr>\n",
              "      <th>0</th>\n",
              "      <td>We’re flying high, literally. ;)\\nDelighted to...</td>\n",
              "      <td>0.638909</td>\n",
              "      <td>0.349273</td>\n",
              "    </tr>\n",
              "    <tr>\n",
              "      <th>1</th>\n",
              "      <td>How traditional HR is evolving in the era of t...</td>\n",
              "      <td>0.425000</td>\n",
              "      <td>0.000000</td>\n",
              "    </tr>\n",
              "    <tr>\n",
              "      <th>2</th>\n",
              "      <td>Here are the top 5 key takeaways from the TCSQ...</td>\n",
              "      <td>0.500000</td>\n",
              "      <td>0.166667</td>\n",
              "    </tr>\n",
              "    <tr>\n",
              "      <th>3</th>\n",
              "      <td>Tune into the next edition of TCSForum: Though...</td>\n",
              "      <td>0.200000</td>\n",
              "      <td>0.075000</td>\n",
              "    </tr>\n",
              "    <tr>\n",
              "      <th>4</th>\n",
              "      <td>Our leadership share their views on the TCSQ1 ...</td>\n",
              "      <td>0.000000</td>\n",
              "      <td>0.000000</td>\n",
              "    </tr>\n",
              "    <tr>\n",
              "      <th>...</th>\n",
              "      <td>...</td>\n",
              "      <td>...</td>\n",
              "      <td>...</td>\n",
              "    </tr>\n",
              "    <tr>\n",
              "      <th>95</th>\n",
              "      <td>Know more:</td>\n",
              "      <td>0.500000</td>\n",
              "      <td>0.500000</td>\n",
              "    </tr>\n",
              "    <tr>\n",
              "      <th>96</th>\n",
              "      <td>Of the countless stars and planets, the grass ...</td>\n",
              "      <td>0.600000</td>\n",
              "      <td>-0.066667</td>\n",
              "    </tr>\n",
              "    <tr>\n",
              "      <th>97</th>\n",
              "      <td>: 🏆🇮🇩 MITCH WINS THE INAUGURAL JAKARTA E-PRIX ...</td>\n",
              "      <td>0.200000</td>\n",
              "      <td>0.300000</td>\n",
              "    </tr>\n",
              "    <tr>\n",
              "      <th>98</th>\n",
              "      <td>An opportunity you don't want to miss! Watch J...</td>\n",
              "      <td>0.633333</td>\n",
              "      <td>0.378788</td>\n",
              "    </tr>\n",
              "    <tr>\n",
              "      <th>99</th>\n",
              "      <td>The time has come to help your favourite drive...</td>\n",
              "      <td>0.000000</td>\n",
              "      <td>0.000000</td>\n",
              "    </tr>\n",
              "  </tbody>\n",
              "</table>\n",
              "<p>100 rows × 3 columns</p>\n",
              "</div>"
            ],
            "text/plain": [
              "                                               Tweets  Subjectivity  Polarity\n",
              "0   We’re flying high, literally. ;)\\nDelighted to...      0.638909  0.349273\n",
              "1   How traditional HR is evolving in the era of t...      0.425000  0.000000\n",
              "2   Here are the top 5 key takeaways from the TCSQ...      0.500000  0.166667\n",
              "3   Tune into the next edition of TCSForum: Though...      0.200000  0.075000\n",
              "4   Our leadership share their views on the TCSQ1 ...      0.000000  0.000000\n",
              "..                                                ...           ...       ...\n",
              "95                                        Know more:       0.500000  0.500000\n",
              "96  Of the countless stars and planets, the grass ...      0.600000 -0.066667\n",
              "97  : 🏆🇮🇩 MITCH WINS THE INAUGURAL JAKARTA E-PRIX ...      0.200000  0.300000\n",
              "98  An opportunity you don't want to miss! Watch J...      0.633333  0.378788\n",
              "99  The time has come to help your favourite drive...      0.000000  0.000000\n",
              "\n",
              "[100 rows x 3 columns]"
            ]
          },
          "execution_count": 278,
          "metadata": {},
          "output_type": "execute_result"
        }
      ],
      "source": [
        "def getSubjectivity(tweet):\n",
        "    return TextBlob(tweet).sentiment.subjectivity\n",
        "\n",
        "def getPolarity(tweet):\n",
        "    return TextBlob(tweet).sentiment.polarity\n",
        "\n",
        "df['Subjectivity'] = df['Tweets'].apply(getSubjectivity)\n",
        "df['Polarity'] = df['Tweets'].apply(getPolarity)\n",
        "df"
      ]
    },
    {
      "cell_type": "markdown",
      "metadata": {},
      "source": [
        "---"
      ]
    },
    {
      "cell_type": "markdown",
      "metadata": {},
      "source": [
        "### Computing and Performing a Postive, Neutral and Negetive Analysis for the Tweets"
      ]
    },
    {
      "cell_type": "code",
      "execution_count": 280,
      "metadata": {},
      "outputs": [
        {
          "data": {
            "text/html": [
              "<div>\n",
              "<style scoped>\n",
              "    .dataframe tbody tr th:only-of-type {\n",
              "        vertical-align: middle;\n",
              "    }\n",
              "\n",
              "    .dataframe tbody tr th {\n",
              "        vertical-align: top;\n",
              "    }\n",
              "\n",
              "    .dataframe thead th {\n",
              "        text-align: right;\n",
              "    }\n",
              "</style>\n",
              "<table border=\"1\" class=\"dataframe\">\n",
              "  <thead>\n",
              "    <tr style=\"text-align: right;\">\n",
              "      <th></th>\n",
              "      <th>Tweets</th>\n",
              "      <th>Subjectivity</th>\n",
              "      <th>Polarity</th>\n",
              "      <th>Analysis</th>\n",
              "    </tr>\n",
              "  </thead>\n",
              "  <tbody>\n",
              "    <tr>\n",
              "      <th>0</th>\n",
              "      <td>We’re flying high, literally. ;)\\nDelighted to...</td>\n",
              "      <td>0.638909</td>\n",
              "      <td>0.349273</td>\n",
              "      <td>Positive</td>\n",
              "    </tr>\n",
              "    <tr>\n",
              "      <th>1</th>\n",
              "      <td>How traditional HR is evolving in the era of t...</td>\n",
              "      <td>0.425000</td>\n",
              "      <td>0.000000</td>\n",
              "      <td>Neutral</td>\n",
              "    </tr>\n",
              "    <tr>\n",
              "      <th>2</th>\n",
              "      <td>Here are the top 5 key takeaways from the TCSQ...</td>\n",
              "      <td>0.500000</td>\n",
              "      <td>0.166667</td>\n",
              "      <td>Positive</td>\n",
              "    </tr>\n",
              "    <tr>\n",
              "      <th>3</th>\n",
              "      <td>Tune into the next edition of TCSForum: Though...</td>\n",
              "      <td>0.200000</td>\n",
              "      <td>0.075000</td>\n",
              "      <td>Positive</td>\n",
              "    </tr>\n",
              "    <tr>\n",
              "      <th>4</th>\n",
              "      <td>Our leadership share their views on the TCSQ1 ...</td>\n",
              "      <td>0.000000</td>\n",
              "      <td>0.000000</td>\n",
              "      <td>Neutral</td>\n",
              "    </tr>\n",
              "    <tr>\n",
              "      <th>...</th>\n",
              "      <td>...</td>\n",
              "      <td>...</td>\n",
              "      <td>...</td>\n",
              "      <td>...</td>\n",
              "    </tr>\n",
              "    <tr>\n",
              "      <th>95</th>\n",
              "      <td>Know more:</td>\n",
              "      <td>0.500000</td>\n",
              "      <td>0.500000</td>\n",
              "      <td>Positive</td>\n",
              "    </tr>\n",
              "    <tr>\n",
              "      <th>96</th>\n",
              "      <td>Of the countless stars and planets, the grass ...</td>\n",
              "      <td>0.600000</td>\n",
              "      <td>-0.066667</td>\n",
              "      <td>Negetive</td>\n",
              "    </tr>\n",
              "    <tr>\n",
              "      <th>97</th>\n",
              "      <td>: 🏆🇮🇩 MITCH WINS THE INAUGURAL JAKARTA E-PRIX ...</td>\n",
              "      <td>0.200000</td>\n",
              "      <td>0.300000</td>\n",
              "      <td>Positive</td>\n",
              "    </tr>\n",
              "    <tr>\n",
              "      <th>98</th>\n",
              "      <td>An opportunity you don't want to miss! Watch J...</td>\n",
              "      <td>0.633333</td>\n",
              "      <td>0.378788</td>\n",
              "      <td>Positive</td>\n",
              "    </tr>\n",
              "    <tr>\n",
              "      <th>99</th>\n",
              "      <td>The time has come to help your favourite drive...</td>\n",
              "      <td>0.000000</td>\n",
              "      <td>0.000000</td>\n",
              "      <td>Neutral</td>\n",
              "    </tr>\n",
              "  </tbody>\n",
              "</table>\n",
              "<p>100 rows × 4 columns</p>\n",
              "</div>"
            ],
            "text/plain": [
              "                                               Tweets  Subjectivity  Polarity  \\\n",
              "0   We’re flying high, literally. ;)\\nDelighted to...      0.638909  0.349273   \n",
              "1   How traditional HR is evolving in the era of t...      0.425000  0.000000   \n",
              "2   Here are the top 5 key takeaways from the TCSQ...      0.500000  0.166667   \n",
              "3   Tune into the next edition of TCSForum: Though...      0.200000  0.075000   \n",
              "4   Our leadership share their views on the TCSQ1 ...      0.000000  0.000000   \n",
              "..                                                ...           ...       ...   \n",
              "95                                        Know more:       0.500000  0.500000   \n",
              "96  Of the countless stars and planets, the grass ...      0.600000 -0.066667   \n",
              "97  : 🏆🇮🇩 MITCH WINS THE INAUGURAL JAKARTA E-PRIX ...      0.200000  0.300000   \n",
              "98  An opportunity you don't want to miss! Watch J...      0.633333  0.378788   \n",
              "99  The time has come to help your favourite drive...      0.000000  0.000000   \n",
              "\n",
              "    Analysis  \n",
              "0   Positive  \n",
              "1    Neutral  \n",
              "2   Positive  \n",
              "3   Positive  \n",
              "4    Neutral  \n",
              "..       ...  \n",
              "95  Positive  \n",
              "96  Negetive  \n",
              "97  Positive  \n",
              "98  Positive  \n",
              "99   Neutral  \n",
              "\n",
              "[100 rows x 4 columns]"
            ]
          },
          "execution_count": 280,
          "metadata": {},
          "output_type": "execute_result"
        }
      ],
      "source": [
        "def getAnalysis(score):\n",
        "    if score<0:\n",
        "        return 'Negetive'\n",
        "    elif score==0:\n",
        "        return 'Neutral'\n",
        "    else:\n",
        "        return 'Positive'\n",
        "\n",
        "df['Analysis'] = df['Polarity'].apply(getAnalysis)\n",
        "df"
      ]
    },
    {
      "cell_type": "markdown",
      "metadata": {},
      "source": [
        "---"
      ]
    },
    {
      "cell_type": "markdown",
      "metadata": {},
      "source": [
        "### Number of Positive, Neutral and Negetive Tweets"
      ]
    },
    {
      "cell_type": "code",
      "execution_count": 295,
      "metadata": {},
      "outputs": [
        {
          "name": "stdout",
          "output_type": "stream",
          "text": [
            "Total Tweets: 100\n"
          ]
        }
      ],
      "source": [
        "print('Total Tweets:',len(df.index))"
      ]
    },
    {
      "cell_type": "code",
      "execution_count": 288,
      "metadata": {},
      "outputs": [
        {
          "name": "stdout",
          "output_type": "stream",
          "text": [
            "Positive Tweets: 60\n",
            "Neutral Tweets: 33\n",
            "Negetive Tweets: 7\n"
          ]
        }
      ],
      "source": [
        "print('Positive Tweets:',len(df.loc[df['Analysis'] == 'Positive']))\n",
        "print('Neutral Tweets:',len(df.loc[df['Analysis'] == 'Neutral']))\n",
        "print('Negetive Tweets:',len(df.loc[df['Analysis'] == 'Negetive']))"
      ]
    },
    {
      "cell_type": "markdown",
      "metadata": {},
      "source": [
        "---"
      ]
    },
    {
      "cell_type": "markdown",
      "metadata": {},
      "source": [
        "### Plotting the Polarity and Subjectivity"
      ]
    },
    {
      "cell_type": "code",
      "execution_count": 281,
      "metadata": {},
      "outputs": [
        {
          "data": {
            "image/png": "[encoded data removed]",
            "text/plain": [
              "<Figure size 576x432 with 1 Axes>"
            ]
          },
          "metadata": {},
          "output_type": "display_data"
        }
      ],
      "source": [
        "plt.figure(figsize=(8,6))\n",
        "for i in range(0, df.shape[0]):\n",
        "    plt.scatter(df['Polarity'][i], df['Subjectivity'][i], color='Blue')\n",
        "\n",
        "plt.title('Sentiment Analysis Plot')\n",
        "plt.xlabel('Polarity')\n",
        "plt.ylabel('Subjectivity')\n",
        "plt.show()"
      ]
    },
    {
      "cell_type": "markdown",
      "metadata": {},
      "source": [
        "From the above Scatter plot, we can see that majority of the Tweets are Postive since they are all plotted on the right of 0.0 in the graph. We have less number of Tweets which are Negetive i.e. on the left of 0.0 in the graph."
      ]
    },
    {
      "cell_type": "markdown",
      "metadata": {},
      "source": [
        "---"
      ]
    },
    {
      "cell_type": "markdown",
      "metadata": {},
      "source": [
        "### Getting the Number of Positive and Negetive Tweets"
      ]
    },
    {
      "cell_type": "code",
      "execution_count": 282,
      "metadata": {},
      "outputs": [
        {
          "name": "stdout",
          "output_type": "stream",
          "text": [
            "% Positive Tweets = 60.0\n",
            "% Negetive Tweets = 7.0\n"
          ]
        }
      ],
      "source": [
        "ptweets = (df[df.Analysis == 'Positive'])['Tweets']\n",
        "print('% Positive Tweets =', round((ptweets.shape[0]/df.shape[0])*100, 1))\n",
        "\n",
        "ntweets = (df[df.Analysis == 'Negetive'])['Tweets']\n",
        "print('% Negetive Tweets =', round((ntweets.shape[0]/df.shape[0]*100), 1))"
      ]
    },
    {
      "cell_type": "markdown",
      "metadata": {},
      "source": [
        "---"
      ]
    },
    {
      "cell_type": "markdown",
      "metadata": {},
      "source": [
        "### Plotting a Chart to visualize the Postive, Neutral and Negetive Tweets"
      ]
    },
    {
      "cell_type": "code",
      "execution_count": 283,
      "metadata": {},
      "outputs": [
        {
          "data": {
            "image/png": "[encoded data removed]",
            "text/plain": [
              "<Figure size 432x288 with 1 Axes>"
            ]
          },
          "metadata": {},
          "output_type": "display_data"
        }
      ],
      "source": [
        "df['Analysis'].value_counts()\n",
        "\n",
        "plt.title('Sentiment Analysis Chart')\n",
        "plt.xlabel('Sentiment')\n",
        "plt.ylabel('Counts')\n",
        "df['Analysis'].value_counts().plot(kind='bar')\n",
        "plt.show()"
      ]
    }
  ],
  "metadata": {
    "colab": {
      "collapsed_sections": [],
      "name": "Twitter Sentiment Analysis.ipynb",
      "provenance": []
    },
    "kernelspec": {
      "display_name": "Python 3.9.2 64-bit",
      "language": "python",
      "name": "python3"
    },
    "language_info": {
      "codemirror_mode": {
        "name": "ipython",
        "version": 3
      },
      "file_extension": ".py",
      "mimetype": "text/x-python",
      "name": "python",
      "nbconvert_exporter": "python",
      "pygments_lexer": "ipython3",
      "version": "3.9.2"
    },
    "vscode": {
      "interpreter": {
        "hash": "11938c6bc6919ae2720b4d5011047913343b08a43b18698fd82dedb0d4417594"
      }
    }
  },
  "nbformat": 4,
  "nbformat_minor": 0
}
